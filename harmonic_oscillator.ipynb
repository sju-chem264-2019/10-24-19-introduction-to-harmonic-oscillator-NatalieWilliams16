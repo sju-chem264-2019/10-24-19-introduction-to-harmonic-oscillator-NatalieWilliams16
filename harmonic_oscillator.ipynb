{
 "cells": [
  {
   "cell_type": "markdown",
   "metadata": {},
   "source": [
    "# Introduction to the Harmonic Oscillator"
   ]
  },
  {
   "cell_type": "markdown",
   "metadata": {},
   "source": [
    "*Note:* Much of this is adapted/copied from https://flothesof.github.io/harmonic-oscillator-three-methods-solution.html"
   ]
  },
  {
   "cell_type": "markdown",
   "metadata": {},
   "source": [
    "This week week we are going to begin studying molecular dynamics, which uses classical mechanics to study molecular systems. Our \"hydrogen atom\" in this section will be the 1D harmomic oscillator. \n",
    "\n",
    "![1D Harmonic Oscillator](ho.png) "
   ]
  },
  {
   "cell_type": "markdown",
   "metadata": {},
   "source": [
    "The harmonic oscillator is a system that, when displaced from its equilibrium position, experiences a restoring force F proportional to the displacement x:\n",
    "\n",
    "$$F=-kx$$\n",
    "\n",
    "The potential energy of this system is \n",
    "\n",
    "$$V = {1 \\over 2}k{x^2}$$"
   ]
  },
  {
   "cell_type": "markdown",
   "metadata": {},
   "source": [
    "These are sometime rewritten as\n",
    "\n",
    "$$ F=- \\omega_0^2 m x, \\text{ }  V(x) = {1 \\over 2}  \\omega_0^2 m {x^2}$$\n",
    "\n",
    "Where $\\omega_0  = \\sqrt {{k \\over m}} $"
   ]
  },
  {
   "cell_type": "markdown",
   "metadata": {},
   "source": [
    "In classical mechanics, our goal is to determine the equations of motion, $x(t),y(t)$, that describe our system. \n",
    "\n",
    "In this notebook we will use sympy to solve an second order, ordinary differential equation."
   ]
  },
  {
   "cell_type": "markdown",
   "metadata": {},
   "source": [
    "## 1. Solving differential equations with sympy"
   ]
  },
  {
   "cell_type": "markdown",
   "metadata": {},
   "source": [
    "Solving differential equations can be tough, and there is not always a set plan on how to proceed. Luckily for us, the harmonic osscillator is the classic second order diffferential eqations."
   ]
  },
  {
   "cell_type": "markdown",
   "metadata": {},
   "source": [
    "Consider the following second order differential equation\n",
    "\n",
    "$$ay(t)''+by(t)'=c$$\n",
    "\n",
    "where $y(t)'' = {{{d^2}y} \\over {dt^2}}$, and $y(t)' = {{{d}y} \\over {dt}}$"
   ]
  },
  {
   "cell_type": "markdown",
   "metadata": {},
   "source": [
    "We can rewrite this as a homogeneous linear differential equations\n",
    "\n",
    "$$ay(t)''+by(t)'-c=0$$"
   ]
  },
  {
   "cell_type": "markdown",
   "metadata": {},
   "source": [
    "The goal here is to find $y(t)$, similar to our classical mechanics problems. Lets use sympy to solve this equation"
   ]
  },
  {
   "cell_type": "markdown",
   "metadata": {},
   "source": [
    "### Second order ordinary differential equation"
   ]
  },
  {
   "cell_type": "markdown",
   "metadata": {},
   "source": [
    "First we import the sympy library"
   ]
  },
  {
   "cell_type": "code",
   "execution_count": 1,
   "metadata": {},
   "outputs": [],
   "source": [
    "import sympy as sym"
   ]
  },
  {
   "cell_type": "markdown",
   "metadata": {},
   "source": [
    "Next we initialize pretty printing"
   ]
  },
  {
   "cell_type": "code",
   "execution_count": 2,
   "metadata": {},
   "outputs": [],
   "source": [
    "sym.init_printing()"
   ]
  },
  {
   "cell_type": "markdown",
   "metadata": {},
   "source": [
    "Next we will set our symbols"
   ]
  },
  {
   "cell_type": "code",
   "execution_count": 3,
   "metadata": {},
   "outputs": [],
   "source": [
    "t,a,b,c=sym.symbols(\"t,a,b,c\")"
   ]
  },
  {
   "cell_type": "markdown",
   "metadata": {},
   "source": [
    "Now for somehting new. We can define functions using `sym.Function(\"f\")`"
   ]
  },
  {
   "cell_type": "code",
   "execution_count": 4,
   "metadata": {},
   "outputs": [
    {
     "data": {
      "image/png": "[encoded data removed]",
      "text/latex": [
       "$$y{\\left (t \\right )}$$"
      ],
      "text/plain": [
       "y(t)"
      ]
     },
     "execution_count": 4,
     "metadata": {},
     "output_type": "execute_result"
    }
   ],
   "source": [
    "y=sym.Function(\"y\")\n",
    "y(t)"
   ]
  },
  {
   "cell_type": "markdown",
   "metadata": {},
   "source": [
    "Now, If I want to define a first or second derivative, I can use `sym.diff`"
   ]
  },
  {
   "cell_type": "code",
   "execution_count": 5,
   "metadata": {},
   "outputs": [
    {
     "data": {
      "image/png": "[encoded data removed]",
      "text/latex": [
       "$$\\left ( \\frac{d}{d t} y{\\left (t \\right )}, \\quad \\frac{d^{2}}{d t^{2}} y{\\left (t \\right )}\\right )$$"
      ],
      "text/plain": [
       "⎛            2      ⎞\n",
       "⎜d          d       ⎟\n",
       "⎜──(y(t)), ───(y(t))⎟\n",
       "⎜dt          2      ⎟\n",
       "⎝          dt       ⎠"
      ]
     },
     "execution_count": 5,
     "metadata": {},
     "output_type": "execute_result"
    }
   ],
   "source": [
    "sym.diff(y(t),(t,1)),sym.diff(y(t),(t,2))"
   ]
  },
  {
   "cell_type": "markdown",
   "metadata": {},
   "source": [
    "My differential equation can be written as follows"
   ]
  },
  {
   "cell_type": "code",
   "execution_count": 6,
   "metadata": {},
   "outputs": [
    {
     "data": {
      "image/png": "[encoded data removed]",
      "text/latex": [
       "$$a \\frac{d^{2}}{d t^{2}} y{\\left (t \\right )} + b \\frac{d}{d t} y{\\left (t \\right )} - c$$"
      ],
      "text/plain": [
       "    2                       \n",
       "   d            d           \n",
       "a⋅───(y(t)) + b⋅──(y(t)) - c\n",
       "    2           dt          \n",
       "  dt                        "
      ]
     },
     "execution_count": 6,
     "metadata": {},
     "output_type": "execute_result"
    }
   ],
   "source": [
    "dfeq=a*sym.diff(y(t),(t,2))+b*sym.diff(y(t),(t,1))-c\n",
    "dfeq"
   ]
  },
  {
   "cell_type": "code",
   "execution_count": 84,
   "metadata": {},
   "outputs": [
    {
     "data": {
      "image/png": "[encoded data removed]",
      "text/latex": [
       "$$y{\\left (t \\right )} = C_{1} + C_{2} e^{- \\frac{b t}{a}} + \\frac{c t}{b}$$"
      ],
      "text/plain": [
       "                -b⋅t       \n",
       "                ─────      \n",
       "                  a     c⋅t\n",
       "y(t) = C₁ + C₂⋅ℯ      + ───\n",
       "                         b "
      ]
     },
     "execution_count": 84,
     "metadata": {},
     "output_type": "execute_result"
    }
   ],
   "source": [
    "sol = sym.dsolve(dfeq)\n",
    "sol"
   ]
  },
  {
   "cell_type": "markdown",
   "metadata": {},
   "source": [
    "The two constants $C_1$ and $C_2$ can be determined by setting boundry conditions.\n",
    "First, we can set the condition $y(t=0)=y_0$\n",
    "\n",
    "The next intial condition we will set is $y'(t=0)=v_0$\n",
    "\n",
    "To setup the equality we want to solve, we are using `sym.Eq`. This function sets up an equaility between a lhs aand rhs of an equation"
   ]
  },
  {
   "cell_type": "code",
   "execution_count": 8,
   "metadata": {},
   "outputs": [
    {
     "data": {
      "image/png": "[encoded data removed]",
      "text/latex": [
       "$$\\alpha + 2 = \\beta$$"
      ],
      "text/plain": [
       "α + 2 = β"
      ]
     },
     "execution_count": 8,
     "metadata": {},
     "output_type": "execute_result"
    }
   ],
   "source": [
    "# sym.Eq example\n",
    "alpha,beta=sym.symbols(\"alpha,beta\")\n",
    "sym.Eq(alpha+2,beta)"
   ]
  },
  {
   "cell_type": "markdown",
   "metadata": {},
   "source": [
    "Back to the actual problem"
   ]
  },
  {
   "cell_type": "code",
   "execution_count": 9,
   "metadata": {},
   "outputs": [
    {
     "data": {
      "image/png": "[encoded data removed]",
      "text/latex": [
       "$$\\left [ C_{1} + C_{2} = y_{0}, \\quad - \\frac{C_{2} b}{a} + \\frac{c}{b} = v_{0}\\right ]$$"
      ],
      "text/plain": [
       "⎡                C₂⋅b   c     ⎤\n",
       "⎢C₁ + C₂ = y₀, - ──── + ─ = v₀⎥\n",
       "⎣                 a     b     ⎦"
      ]
     },
     "execution_count": 9,
     "metadata": {},
     "output_type": "execute_result"
    }
   ],
   "source": [
    "y0,v0=sym.symbols(\"y_0,v_0\")\n",
    "ics=[sym.Eq(sol.args[1].subs(t, 0), y0),\n",
    "     sym.Eq(sol.args[1].diff(t).subs(t, 0), v0)]\n",
    "ics"
   ]
  },
  {
   "cell_type": "markdown",
   "metadata": {},
   "source": [
    "We can use this result to first solve for $C_2$ and then solve for $C_1$.\n",
    "Or we can use sympy to solve this for us."
   ]
  },
  {
   "cell_type": "code",
   "execution_count": 10,
   "metadata": {},
   "outputs": [
    {
     "data": {
      "image/png": "[encoded data removed]",
      "text/latex": [
       "$$\\left [ \\left \\{ C_{1} : \\frac{a b v_{0} - a c + b^{2} y_{0}}{b^{2}}, \\quad C_{2} : - \\frac{a \\left(b v_{0} - c\\right)}{b^{2}}\\right \\}\\right ]$$"
      ],
      "text/plain": [
       "⎡⎧                    2                       ⎫⎤\n",
       "⎢⎪    a⋅b⋅v₀ - a⋅c + b ⋅y₀      -a⋅(b⋅v₀ - c) ⎪⎥\n",
       "⎢⎨C₁: ────────────────────, C₂: ──────────────⎬⎥\n",
       "⎢⎪              2                      2      ⎪⎥\n",
       "⎣⎩             b                      b       ⎭⎦"
      ]
     },
     "execution_count": 10,
     "metadata": {},
     "output_type": "execute_result"
    }
   ],
   "source": [
    "solved_ics=sym.solve(ics)\n",
    "solved_ics"
   ]
  },
  {
   "cell_type": "markdown",
   "metadata": {},
   "source": [
    "Substitute the result back into $y(t)$"
   ]
  },
  {
   "cell_type": "code",
   "execution_count": 11,
   "metadata": {},
   "outputs": [
    {
     "data": {
      "image/png": "[encoded data removed]",
      "text/latex": [
       "$$y{\\left (t \\right )} = - \\frac{a \\left(b v_{0} - c\\right) e^{- \\frac{b t}{a}}}{b^{2}} + \\frac{c t}{b} + \\frac{a b v_{0} - a c + b^{2} y_{0}}{b^{2}}$$"
      ],
      "text/plain": [
       "                       -b⋅t                              \n",
       "                       ─────                             \n",
       "                         a                           2   \n",
       "         a⋅(b⋅v₀ - c)⋅ℯ        c⋅t   a⋅b⋅v₀ - a⋅c + b ⋅y₀\n",
       "y(t) = - ─────────────────── + ─── + ────────────────────\n",
       "                   2            b              2         \n",
       "                  b                           b          "
      ]
     },
     "execution_count": 11,
     "metadata": {},
     "output_type": "execute_result"
    }
   ],
   "source": [
    "full_sol = sol.subs(solved_ics[0])\n",
    "full_sol"
   ]
  },
  {
   "cell_type": "markdown",
   "metadata": {},
   "source": [
    "We can plot this result too. Assume that $a,b,c=1$ and that the starting conditions are $y_0=0,v_0=0$\n",
    "\n",
    "\n",
    "We will use two sample problems:\n",
    "\n",
    "* case 1 : initial position is nonzero and initial velocity is zero\n",
    "* case 2 : initial position is zero and initialvelocity is nonzero\n"
   ]
  },
  {
   "cell_type": "code",
   "execution_count": 13,
   "metadata": {},
   "outputs": [],
   "source": [
    "# Print plots\n",
    "%matplotlib inline"
   ]
  },
  {
   "cell_type": "markdown",
   "metadata": {},
   "source": [
    "#### Initial velocity set to zero"
   ]
  },
  {
   "cell_type": "code",
   "execution_count": 14,
   "metadata": {},
   "outputs": [
    {
     "data": {
      "image/png": "[encoded data removed]",
      "text/latex": [
       "$$y{\\left (t \\right )} = t - 1 + e^{- t}$$"
      ],
      "text/plain": [
       "                -t\n",
       "y(t) = t - 1 + ℯ  "
      ]
     },
     "execution_count": 14,
     "metadata": {},
     "output_type": "execute_result"
    }
   ],
   "source": [
    "case1 = sym.simplify(full_sol.subs({y0:0, v0:0, a:1, b:1, c:1}))\n",
    "case1"
   ]
  },
  {
   "cell_type": "code",
   "execution_count": 15,
   "metadata": {},
   "outputs": [
    {
     "data": {
      "image/png": "[encoded data removed]",
      "text/plain": [
       "<Figure size 432x288 with 1 Axes>"
      ]
     },
     "metadata": {
      "needs_background": "light"
     },
     "output_type": "display_data"
    },
    {
     "data": {
      "image/png": "[encoded data removed]",
      "text/plain": [
       "<Figure size 432x288 with 1 Axes>"
      ]
     },
     "metadata": {
      "needs_background": "light"
     },
     "output_type": "display_data"
    },
    {
     "data": {
      "text/plain": [
       "<sympy.plotting.plot.Plot at 0x1152400b8>"
      ]
     },
     "execution_count": 15,
     "metadata": {},
     "output_type": "execute_result"
    }
   ],
   "source": [
    "sym.plot(case1.rhs)\n",
    "sym.plot(case1.rhs,(t,-2,2))"
   ]
  },
  {
   "cell_type": "markdown",
   "metadata": {},
   "source": [
    "#### Initial velocity set to one"
   ]
  },
  {
   "cell_type": "code",
   "execution_count": 16,
   "metadata": {},
   "outputs": [
    {
     "data": {
      "image/png": "[encoded data removed]",
      "text/latex": [
       "$$t = y{\\left (t \\right )}$$"
      ],
      "text/plain": [
       "t = y(t)"
      ]
     },
     "execution_count": 16,
     "metadata": {},
     "output_type": "execute_result"
    }
   ],
   "source": [
    "case2 = sym.simplify(full_sol.subs({y0:0, v0:1, a:1, b:1, c:1}))\n",
    "case2"
   ]
  },
  {
   "cell_type": "code",
   "execution_count": 17,
   "metadata": {},
   "outputs": [
    {
     "data": {
      "image/png": "[encoded data removed]",
      "text/plain": [
       "<Figure size 432x288 with 1 Axes>"
      ]
     },
     "metadata": {
      "needs_background": "light"
     },
     "output_type": "display_data"
    },
    {
     "data": {
      "text/plain": [
       "<sympy.plotting.plot.Plot at 0x115578048>"
      ]
     },
     "execution_count": 17,
     "metadata": {},
     "output_type": "execute_result"
    }
   ],
   "source": [
    "sym.plot(case2.lhs,(t,-2,2))"
   ]
  },
  {
   "cell_type": "markdown",
   "metadata": {},
   "source": [
    "## Calculate the phase space"
   ]
  },
  {
   "cell_type": "markdown",
   "metadata": {},
   "source": [
    "As we will see in lecture, the state of our classical systems are defined as points in phase space, a hyperspace defined by ${{\\bf{r}}^N},{{\\bf{p}}^N}$. We will convert our sympy expression into a numerical function so that we can plot the path of $y(t)$ in phase space $y,y'$."
   ]
  },
  {
   "cell_type": "code",
   "execution_count": 20,
   "metadata": {},
   "outputs": [
    {
     "data": {
      "image/png": "[encoded data removed]",
      "text/latex": [
       "$$y{\\left (t \\right )} = t - 1 + e^{- t}$$"
      ],
      "text/plain": [
       "                -t\n",
       "y(t) = t - 1 + ℯ  "
      ]
     },
     "execution_count": 20,
     "metadata": {},
     "output_type": "execute_result"
    }
   ],
   "source": [
    "case1"
   ]
  },
  {
   "cell_type": "code",
   "execution_count": 21,
   "metadata": {},
   "outputs": [
    {
     "data": {
      "image/png": "[encoded data removed]",
      "text/plain": [
       "<Figure size 432x288 with 1 Axes>"
      ]
     },
     "metadata": {
      "needs_background": "light"
     },
     "output_type": "display_data"
    }
   ],
   "source": [
    "# Import numpy library\n",
    "import numpy as np\n",
    "\n",
    "# Make numerical functions out of symbolic expressions\n",
    "yfunc=sym.lambdify(t,case1.rhs,'numpy')\n",
    "vfunc=sym.lambdify(t,case1.rhs.diff(t),'numpy')\n",
    "\n",
    "# Make list of numbers\n",
    "tlst=np.linspace(-2,2,100)\n",
    "\n",
    "# Import pyplot\n",
    "import matplotlib\n",
    "import matplotlib.pyplot as plt\n",
    "# Make plot\n",
    "plt.plot(yfunc(tlst),vfunc(tlst))\n",
    "plt.xlabel('$y$')\n",
    "plt.ylabel(\"$y'$\")\n",
    "plt.show()"
   ]
  },
  {
   "cell_type": "markdown",
   "metadata": {},
   "source": [
    "### Exercise 1.1 \n",
    "\n",
    "Change the initial starting conditions and see how that changes the plots. Make three different plots with different starting conditions"
   ]
  },
  {
   "cell_type": "code",
   "execution_count": 34,
   "metadata": {},
   "outputs": [
    {
     "data": {
      "image/png": "[encoded data removed]",
      "text/latex": [
       "$$y{\\left (t \\right )} = t + 2 - e^{- t}$$"
      ],
      "text/plain": [
       "                -t\n",
       "y(t) = t + 2 - ℯ  "
      ]
     },
     "execution_count": 34,
     "metadata": {},
     "output_type": "execute_result"
    }
   ],
   "source": [
    "Natcase1 = sym.simplify(full_sol.subs({y0:1, v0:2, a:1, b:1, c:1}))\n",
    "Natcase1"
   ]
  },
  {
   "cell_type": "code",
   "execution_count": 35,
   "metadata": {},
   "outputs": [
    {
     "data": {
      "image/png": "[encoded data removed]",
      "text/plain": [
       "<Figure size 432x288 with 1 Axes>"
      ]
     },
     "metadata": {
      "needs_background": "light"
     },
     "output_type": "display_data"
    }
   ],
   "source": [
    "import numpy as np\n",
    "\n",
    "# Make numerical functions out of symbolic expressions\n",
    "yfunc=sym.lambdify(t,Natcase1.rhs,'numpy')\n",
    "vfunc=sym.lambdify(t,Natcase1.rhs.diff(t),'numpy')\n",
    "\n",
    "# Make list of numbers\n",
    "tlst=np.linspace(-2,2,100)\n",
    "\n",
    "# Import pyplot\n",
    "import matplotlib\n",
    "import matplotlib.pyplot as plt\n",
    "# Make plot\n",
    "plt.plot(yfunc(tlst),vfunc(tlst))\n",
    "plt.xlabel('$y$')\n",
    "plt.ylabel(\"$y'$\")\n",
    "plt.show()"
   ]
  },
  {
   "cell_type": "code",
   "execution_count": 46,
   "metadata": {},
   "outputs": [
    {
     "data": {
      "image/png": "[encoded data removed]",
      "text/latex": [
       "$$y{\\left (t \\right )} = t - 10 + 6 e^{- t}$$"
      ],
      "text/plain": [
       "                   -t\n",
       "y(t) = t - 10 + 6⋅ℯ  "
      ]
     },
     "execution_count": 46,
     "metadata": {},
     "output_type": "execute_result"
    }
   ],
   "source": [
    "Natcase2 = sym.simplify(full_sol.subs({y0:-4, v0:-5, a:1, b:1, c:1}))\n",
    "Natcase2"
   ]
  },
  {
   "cell_type": "code",
   "execution_count": 60,
   "metadata": {},
   "outputs": [
    {
     "data": {
      "image/png": "[encoded data removed]",
      "text/plain": [
       "<Figure size 432x288 with 1 Axes>"
      ]
     },
     "metadata": {
      "needs_background": "light"
     },
     "output_type": "display_data"
    }
   ],
   "source": [
    "import numpy as np\n",
    "\n",
    "# Make numerical functions out of symbolic expressions\n",
    "yfunc=sym.lambdify(t,Natcase2.rhs,'numpy')\n",
    "vfunc=sym.lambdify(t,Natcase2.rhs.diff(t),'numpy')\n",
    "\n",
    "# Make list of numbers\n",
    "tlst=np.linspace(-2,2,100)\n",
    "\n",
    "# Import pyplot\n",
    "import matplotlib\n",
    "import matplotlib.pyplot as plt\n",
    "# Make plot\n",
    "plt.plot(yfunc(tlst),vfunc(tlst))\n",
    "plt.xlabel('$y$')\n",
    "plt.ylabel(\"$y'$\")\n",
    "plt.show()"
   ]
  },
  {
   "cell_type": "code",
   "execution_count": 51,
   "metadata": {},
   "outputs": [
    {
     "data": {
      "image/png": "[encoded data removed]",
      "text/latex": [
       "$$y{\\left (t \\right )} = t - 251 + 151 e^{- t}$$"
      ],
      "text/plain": [
       "                      -t\n",
       "y(t) = t - 251 + 151⋅ℯ  "
      ]
     },
     "execution_count": 51,
     "metadata": {},
     "output_type": "execute_result"
    }
   ],
   "source": [
    "Natcase3 = sym.simplify(full_sol.subs({y0:-100, v0:-150, a:1, b:1, c:1}))\n",
    "Natcase3"
   ]
  },
  {
   "cell_type": "code",
   "execution_count": 63,
   "metadata": {},
   "outputs": [
    {
     "data": {
      "image/png": "[encoded data removed]",
      "text/plain": [
       "<Figure size 432x288 with 1 Axes>"
      ]
     },
     "metadata": {
      "needs_background": "light"
     },
     "output_type": "display_data"
    }
   ],
   "source": [
    "import numpy as np\n",
    "\n",
    "# Make numerical functions out of symbolic expressions\n",
    "yfunc=sym.lambdify(t,Natcase3.rhs,'numpy')\n",
    "vfunc=sym.lambdify(t,Natcase3.rhs.diff(t),'numpy')\n",
    "\n",
    "# Make list of numbers\n",
    "tlst=np.linspace(-2,2,5000)\n",
    "\n",
    "# Import pyplot\n",
    "import matplotlib\n",
    "import matplotlib.pyplot as plt\n",
    "# Make plot\n",
    "plt.plot(yfunc(tlst),vfunc(tlst))\n",
    "plt.xlabel('$y$')\n",
    "plt.ylabel(\"$y'$\")\n",
    "plt.show()"
   ]
  },
  {
   "cell_type": "markdown",
   "metadata": {},
   "source": [
    "## 2. Harmonic oscillator "
   ]
  },
  {
   "cell_type": "markdown",
   "metadata": {},
   "source": [
    "Applying the harmonic oscillator force to Newton's second law leads to the following second order differential equation\n",
    "\n",
    "$$ F = m a $$\n",
    "\n",
    "$$ F= - \\omega_0^2 m x $$\n",
    "\n",
    "$$ a = - \\omega_0^2 x $$\n",
    "\n",
    "$$ x(t)'' = - \\omega_0^2 x $$"
   ]
  },
  {
   "cell_type": "markdown",
   "metadata": {},
   "source": [
    "The final expression can be rearranged into a second order homogenous differential equation, and can be solved using the methods we used above"
   ]
  },
  {
   "cell_type": "markdown",
   "metadata": {},
   "source": [
    "Your goal is determine and plot the equations of motion of a 1D harmomnic oscillator"
   ]
  },
  {
   "cell_type": "markdown",
   "metadata": {},
   "source": [
    "### Exercise 2.1  "
   ]
  },
  {
   "cell_type": "markdown",
   "metadata": {},
   "source": [
    "1. Use the methodology above to determine the equations of motion $x(t), v(t)$ for a harmonic ocillator\n",
    "1. Solve for any constants by using the following initial conditions: $x(0)=x_0, v(0)=v_0$\n",
    "1. Show expressions for and plot the equations of motion for the following cases:\n",
    "    1. $x(0)=0, v(0)=0$\n",
    "    1. $x(0)=0, v(0)>0$\n",
    "    1. $x(0)>0, v(0)=0$\n",
    "    1. $x(0)<0, v(0)=0$\n",
    "1. Plot the phasespace diagram for the harmonic oscillator"
   ]
  },
  {
   "cell_type": "code",
   "execution_count": 100,
   "metadata": {},
   "outputs": [
    {
     "data": {
      "image/png": "[encoded data removed]",
      "text/latex": [
       "$$\\omega_{0}$$"
      ],
      "text/plain": [
       "ω₀"
      ]
     },
     "execution_count": 100,
     "metadata": {},
     "output_type": "execute_result"
    }
   ],
   "source": [
    "import sympy as sym\n",
    "sym.init_printing()\n",
    "omega0,t,a,b,c=sym.symbols(\"omega_0,t,a,b,c\")\n",
    "omega0\n"
   ]
  },
  {
   "cell_type": "code",
   "execution_count": 73,
   "metadata": {},
   "outputs": [
    {
     "data": {
      "image/png": "[encoded data removed]",
      "text/latex": [
       "$$x{\\left (t \\right )}$$"
      ],
      "text/plain": [
       "x(t)"
      ]
     },
     "execution_count": 73,
     "metadata": {},
     "output_type": "execute_result"
    }
   ],
   "source": [
    "x=sym.Function(\"x\")\n",
    "x(t)"
   ]
  },
  {
   "cell_type": "code",
   "execution_count": 102,
   "metadata": {},
   "outputs": [
    {
     "data": {
      "image/png": "[encoded data removed]",
      "text/latex": [
       "$$\\omega_{0}^{2} x{\\left (t \\right )} + \\frac{d^{2}}{d t^{2}} x{\\left (t \\right )}$$"
      ],
      "text/plain": [
       "             2      \n",
       "  2         d       \n",
       "ω₀ ⋅x(t) + ───(x(t))\n",
       "             2      \n",
       "           dt       "
      ]
     },
     "execution_count": 102,
     "metadata": {},
     "output_type": "execute_result"
    }
   ],
   "source": [
    "Natfeq=sym.diff(x(t),(t,2))+omega0**2*x(t)\n",
    "Natfeq"
   ]
  },
  {
   "cell_type": "code",
   "execution_count": 104,
   "metadata": {},
   "outputs": [
    {
     "data": {
      "image/png": "[encoded data removed]",
      "text/latex": [
       "$$x{\\left (t \\right )} = C_{1} e^{- i \\omega_{0} t} + C_{2} e^{i \\omega_{0} t}$$"
      ],
      "text/plain": [
       "           -ⅈ⋅ω₀⋅t       ⅈ⋅ω₀⋅t\n",
       "x(t) = C₁⋅ℯ        + C₂⋅ℯ      "
      ]
     },
     "execution_count": 104,
     "metadata": {},
     "output_type": "execute_result"
    }
   ],
   "source": [
    "Natsol=sym.dsolve(Natfeq)\n",
    "Natsol"
   ]
  },
  {
   "cell_type": "code",
   "execution_count": 138,
   "metadata": {},
   "outputs": [
    {
     "data": {
      "image/png": "[encoded data removed]",
      "text/latex": [
       "$$\\left [ C_{1} + C_{2} = x_{0}, \\quad - i C_{1} \\omega_{0} + i C_{2} \\omega_{0} = v_{0}\\right ]$$"
      ],
      "text/plain": [
       "[C₁ + C₂ = x₀, -ⅈ⋅C₁⋅ω₀ + ⅈ⋅C₂⋅ω₀ = v₀]"
      ]
     },
     "execution_count": 138,
     "metadata": {},
     "output_type": "execute_result"
    }
   ],
   "source": [
    "x0,v0=sym.symbols(\"x_0,v_0\")\n",
    "Natics=[sym.Eq(Natsol.args[1].subs(t, 0), x0),\n",
    "     sym.Eq(Natsol.args[1].diff(t).subs(t, 0), v0)]\n",
    "Natics"
   ]
  },
  {
   "cell_type": "code",
   "execution_count": 139,
   "metadata": {},
   "outputs": [
    {
     "data": {
      "image/png": "[encoded data removed]",
      "text/latex": [
       "$$\\left [ \\left \\{ C_{1} : \\frac{\\omega_{0} x_{0} + i v_{0}}{2 \\omega_{0}}, \\quad C_{2} : \\frac{\\omega_{0} x_{0} - i v_{0}}{2 \\omega_{0}}\\right \\}\\right ]$$"
      ],
      "text/plain": [
       "⎡⎧    ω₀⋅x₀ + ⅈ⋅v₀      ω₀⋅x₀ - ⅈ⋅v₀⎫⎤\n",
       "⎢⎨C₁: ────────────, C₂: ────────────⎬⎥\n",
       "⎣⎩        2⋅ω₀              2⋅ω₀    ⎭⎦"
      ]
     },
     "execution_count": 139,
     "metadata": {},
     "output_type": "execute_result"
    }
   ],
   "source": [
    "Natsolved_ics=sym.solve(Natics)\n",
    "Natsolved_ics"
   ]
  },
  {
   "cell_type": "code",
   "execution_count": 140,
   "metadata": {},
   "outputs": [
    {
     "data": {
      "image/png": "[encoded data removed]",
      "text/latex": [
       "$$x{\\left (t \\right )} = \\frac{\\left(\\omega_{0} x_{0} - i v_{0}\\right) e^{i \\omega_{0} t}}{2 \\omega_{0}} + \\frac{\\left(\\omega_{0} x_{0} + i v_{0}\\right) e^{- i \\omega_{0} t}}{2 \\omega_{0}}$$"
      ],
      "text/plain": [
       "                       ⅈ⋅ω₀⋅t                   -ⅈ⋅ω₀⋅t\n",
       "       (ω₀⋅x₀ - ⅈ⋅v₀)⋅ℯ         (ω₀⋅x₀ + ⅈ⋅v₀)⋅ℯ       \n",
       "x(t) = ────────────────────── + ───────────────────────\n",
       "                2⋅ω₀                      2⋅ω₀         "
      ]
     },
     "execution_count": 140,
     "metadata": {},
     "output_type": "execute_result"
    }
   ],
   "source": [
    "Natfull_sol = Natsol.subs(Natsolved_ics[0])\n",
    "Natfull_sol"
   ]
  },
  {
   "cell_type": "code",
   "execution_count": 141,
   "metadata": {},
   "outputs": [
    {
     "data": {
      "image/png": "[encoded data removed]",
      "text/latex": [
       "$$x{\\left (t \\right )} = 0$$"
      ],
      "text/plain": [
       "x(t) = 0"
      ]
     },
     "execution_count": 141,
     "metadata": {},
     "output_type": "execute_result"
    }
   ],
   "source": [
    "Natcasev0 = sym.simplify(Natfull_sol.subs({x0:0, v0:0, a:1, b:1, c:1}))\n",
    "Natcasev0"
   ]
  },
  {
   "cell_type": "code",
   "execution_count": 149,
   "metadata": {},
   "outputs": [
    {
     "data": {
      "image/png": "[encoded data removed]",
      "text/plain": [
       "<Figure size 432x288 with 1 Axes>"
      ]
     },
     "metadata": {
      "needs_background": "light"
     },
     "output_type": "display_data"
    },
    {
     "data": {
      "text/plain": [
       "<sympy.plotting.plot.Plot at 0x115b142e8>"
      ]
     },
     "execution_count": 149,
     "metadata": {},
     "output_type": "execute_result"
    }
   ],
   "source": [
    "sym.plot(Natcasev0.rhs,(t,-1,1))"
   ]
  },
  {
   "cell_type": "code",
   "execution_count": 150,
   "metadata": {},
   "outputs": [
    {
     "data": {
      "image/png": "[encoded data removed]",
      "text/latex": [
       "$$x{\\left (t \\right )} = 200 \\sin{\\left (t \\right )}$$"
      ],
      "text/plain": [
       "x(t) = 200⋅sin(t)"
      ]
     },
     "execution_count": 150,
     "metadata": {},
     "output_type": "execute_result"
    }
   ],
   "source": [
    "Natcasev2 = sym.simplify(Natfull_sol.subs({x0:0, v0:200, omega0:1}))\n",
    "Natcasev2"
   ]
  },
  {
   "cell_type": "code",
   "execution_count": 151,
   "metadata": {},
   "outputs": [
    {
     "data": {
      "image/png": "[encoded data removed]",
      "text/plain": [
       "<Figure size 432x288 with 1 Axes>"
      ]
     },
     "metadata": {
      "needs_background": "light"
     },
     "output_type": "display_data"
    },
    {
     "data": {
      "text/plain": [
       "<sympy.plotting.plot.Plot at 0x115636400>"
      ]
     },
     "execution_count": 151,
     "metadata": {},
     "output_type": "execute_result"
    }
   ],
   "source": [
    "sym.plot(Natcasev2.rhs,(t,-1,1))"
   ]
  },
  {
   "cell_type": "code",
   "execution_count": 153,
   "metadata": {},
   "outputs": [
    {
     "data": {
      "image/png": "[encoded data removed]",
      "text/latex": [
       "$$x{\\left (t \\right )} = 200 \\cos{\\left (t \\right )}$$"
      ],
      "text/plain": [
       "x(t) = 200⋅cos(t)"
      ]
     },
     "execution_count": 153,
     "metadata": {},
     "output_type": "execute_result"
    }
   ],
   "source": [
    "Natcasex2 = sym.simplify(Natfull_sol.subs({x0:200, v0:0, omega0:1}))\n",
    "Natcasex2"
   ]
  },
  {
   "cell_type": "code",
   "execution_count": 154,
   "metadata": {},
   "outputs": [
    {
     "data": {
      "image/png": "[encoded data removed]",
      "text/plain": [
       "<Figure size 432x288 with 1 Axes>"
      ]
     },
     "metadata": {
      "needs_background": "light"
     },
     "output_type": "display_data"
    },
    {
     "data": {
      "text/plain": [
       "<sympy.plotting.plot.Plot at 0x115c5b0f0>"
      ]
     },
     "execution_count": 154,
     "metadata": {},
     "output_type": "execute_result"
    }
   ],
   "source": [
    "sym.plot(Natcasex2.rhs,(t,-1,1))"
   ]
  },
  {
   "cell_type": "code",
   "execution_count": 156,
   "metadata": {
    "scrolled": true
   },
   "outputs": [
    {
     "data": {
      "image/png": "[encoded data removed]",
      "text/latex": [
       "$$x{\\left (t \\right )} = - 200 \\cos{\\left (t \\right )}$$"
      ],
      "text/plain": [
       "x(t) = -200⋅cos(t)"
      ]
     },
     "execution_count": 156,
     "metadata": {},
     "output_type": "execute_result"
    }
   ],
   "source": [
    "Natcasexminus2 = sym.simplify(Natfull_sol.subs({x0:-200, v0:0, omega0:1}))\n",
    "Natcasexminus2"
   ]
  },
  {
   "cell_type": "code",
   "execution_count": 158,
   "metadata": {},
   "outputs": [
    {
     "data": {
      "image/png": "[encoded data removed]",
      "text/plain": [
       "<Figure size 432x288 with 1 Axes>"
      ]
     },
     "metadata": {
      "needs_background": "light"
     },
     "output_type": "display_data"
    },
    {
     "data": {
      "text/plain": [
       "<sympy.plotting.plot.Plot at 0x116627390>"
      ]
     },
     "execution_count": 158,
     "metadata": {},
     "output_type": "execute_result"
    }
   ],
   "source": [
    "sym.plot(Natcasexminus2.rhs,(t,-1,1))"
   ]
  },
  {
   "cell_type": "code",
   "execution_count": 159,
   "metadata": {},
   "outputs": [
    {
     "data": {
      "image/png": "[encoded data removed]",
      "text/plain": [
       "<Figure size 432x288 with 1 Axes>"
      ]
     },
     "metadata": {
      "needs_background": "light"
     },
     "output_type": "display_data"
    }
   ],
   "source": [
    "import numpy as np\n",
    "\n",
    "# Make numerical functions out of symbolic expressions\n",
    "yfunc=sym.lambdify(t,Natcasev0.rhs,'numpy')\n",
    "vfunc=sym.lambdify(t,Natcasev0.rhs.diff(t),'numpy')\n",
    "\n",
    "# Make list of numbers\n",
    "tlst=np.linspace(-2,2,100)\n",
    "\n",
    "# Import pyplot\n",
    "import matplotlib\n",
    "import matplotlib.pyplot as plt\n",
    "# Make plot\n",
    "plt.plot(yfunc(tlst),vfunc(tlst))\n",
    "plt.xlabel('$y$')\n",
    "plt.ylabel(\"$y'$\")\n",
    "plt.show()"
   ]
  },
  {
   "cell_type": "code",
   "execution_count": 166,
   "metadata": {},
   "outputs": [
    {
     "data": {
      "image/png": "[encoded data removed]",
      "text/plain": [
       "<Figure size 432x288 with 1 Axes>"
      ]
     },
     "metadata": {
      "needs_background": "light"
     },
     "output_type": "display_data"
    }
   ],
   "source": [
    "import numpy as np\n",
    "\n",
    "# Make numerical functions out of symbolic expressions\n",
    "yfunc=sym.lambdify(t,Natcasev2.rhs,'numpy')\n",
    "vfunc=sym.lambdify(t,Natcasev2.rhs.diff(t),'numpy')\n",
    "\n",
    "# Make list of numbers\n",
    "tlst=np.linspace(-10,10,100)\n",
    "\n",
    "# Import pyplot\n",
    "import matplotlib\n",
    "import matplotlib.pyplot as plt\n",
    "# Make plot\n",
    "plt.plot(yfunc(tlst),vfunc(tlst))\n",
    "plt.xlabel('$y$')\n",
    "plt.ylabel(\"$y'$\")\n",
    "plt.show()"
   ]
  },
  {
   "cell_type": "code",
   "execution_count": 165,
   "metadata": {},
   "outputs": [
    {
     "data": {
      "image/png": "[encoded data removed]",
      "text/plain": [
       "<Figure size 432x288 with 1 Axes>"
      ]
     },
     "metadata": {
      "needs_background": "light"
     },
     "output_type": "display_data"
    }
   ],
   "source": [
    "import numpy as np\n",
    "\n",
    "# Make numerical functions out of symbolic expressions\n",
    "yfunc=sym.lambdify(t,Natcasex2.rhs,'numpy')\n",
    "vfunc=sym.lambdify(t,Natcasex2.rhs.diff(t),'numpy')\n",
    "\n",
    "# Make list of numbers\n",
    "tlst=np.linspace(-10,10,100)\n",
    "\n",
    "# Import pyplot\n",
    "import matplotlib\n",
    "import matplotlib.pyplot as plt\n",
    "# Make plot\n",
    "plt.plot(yfunc(tlst),vfunc(tlst))\n",
    "plt.xlabel('$y$')\n",
    "plt.ylabel(\"$y'$\")\n",
    "plt.show()"
   ]
  },
  {
   "cell_type": "code",
   "execution_count": 164,
   "metadata": {},
   "outputs": [
    {
     "data": {
      "image/png": "[encoded data removed]",
      "text/plain": [
       "<Figure size 432x288 with 1 Axes>"
      ]
     },
     "metadata": {
      "needs_background": "light"
     },
     "output_type": "display_data"
    }
   ],
   "source": [
    "import numpy as np\n",
    "\n",
    "# Make numerical functions out of symbolic expressions\n",
    "yfunc=sym.lambdify(t,Natcasex2.rhs,'numpy')\n",
    "vfunc=sym.lambdify(t,Natcasex2.rhs.diff(t),'numpy')\n",
    "\n",
    "# Make list of numbers\n",
    "tlst=np.linspace(-10,10,100)\n",
    "\n",
    "# Import pyplot\n",
    "import matplotlib\n",
    "import matplotlib.pyplot as plt\n",
    "# Make plot\n",
    "plt.plot(yfunc(tlst),vfunc(tlst))\n",
    "plt.xlabel('$y$')\n",
    "plt.ylabel(\"$y'$\")\n",
    "plt.show()"
   ]
  },
  {
   "cell_type": "code",
   "execution_count": 163,
   "metadata": {},
   "outputs": [
    {
     "data": {
      "image/png": "[encoded data removed]",
      "text/plain": [
       "<Figure size 432x288 with 1 Axes>"
      ]
     },
     "metadata": {
      "needs_background": "light"
     },
     "output_type": "display_data"
    }
   ],
   "source": [
    "import numpy as np\n",
    "\n",
    "# Make numerical functions out of symbolic expressions\n",
    "yfunc=sym.lambdify(t,Natcasexminus2.rhs,'numpy')\n",
    "vfunc=sym.lambdify(t,Natcasexminus2.rhs.diff(t),'numpy')\n",
    "\n",
    "# Make list of numbers\n",
    "tlst=np.linspace(-10,10,100)\n",
    "\n",
    "# Import pyplot\n",
    "import matplotlib\n",
    "import matplotlib.pyplot as plt\n",
    "# Make plot\n",
    "plt.plot(yfunc(tlst),vfunc(tlst))\n",
    "plt.xlabel('$y$')\n",
    "plt.ylabel(\"$y'$\")\n",
    "plt.show()"
   ]
  },
  {
   "cell_type": "code",
   "execution_count": null,
   "metadata": {},
   "outputs": [],
   "source": []
  }
 ],
 "metadata": {
  "kernelspec": {
   "display_name": "Python 3",
   "language": "python",
   "name": "python3"
  },
  "language_info": {
   "codemirror_mode": {
    "name": "ipython",
    "version": 3
   },
   "file_extension": ".py",
   "mimetype": "text/x-python",
   "name": "python",
   "nbconvert_exporter": "python",
   "pygments_lexer": "ipython3",
   "version": "3.7.1"
  }
 },
 "nbformat": 4,
 "nbformat_minor": 2
}
